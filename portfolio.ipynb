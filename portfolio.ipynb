{
 "cells": [
  {
   "cell_type": "markdown",
   "metadata": {},
   "source": [
    "# Portfolio Analysis"
   ]
  },
  {
   "cell_type": "code",
   "execution_count": null,
   "metadata": {},
   "outputs": [],
   "source": [
    "!pip install xlrd\n",
    "!pip install openpyxl\n",
    "!pip install pyarrow\n",
    "\n",
    "import datetime\n",
    "import pyarrow\n",
    "import yfinance as yf\n",
    "import pandas as pd"
   ]
  },
  {
   "cell_type": "code",
   "execution_count": null,
   "metadata": {},
   "outputs": [],
   "source": [
    "port = pd.read_csv('sample1.csv', index_col=0)\n",
    "port.index"
   ]
  },
  {
   "cell_type": "code",
   "execution_count": null,
   "metadata": {},
   "outputs": [],
   "source": [
    "ticker_list = list(port.index)\n",
    "tickers = yf.Tickers(' '.join(ticker_list))\n",
    "field_list = ['shortName', 'currency', 'marketCap', 'impliedSharesOutstanding']\n",
    "stat = pd.DataFrame([{f: tickers.tickers[t].info[f] for f in field_list} for t in ticker_list], index=ticker_list)"
   ]
  },
  {
   "cell_type": "code",
   "execution_count": null,
   "metadata": {},
   "outputs": [],
   "source": [
    "date = datetime.datetime(year=2023, month=12, day=31)\n",
    "\n",
    "last = pd.Series({t: tickers.tickers[t].history()['Close'].iloc[-1] for t in ticker_list})\n",
    "stat['last'] = last\n",
    "stat['marketCapLocal'] = stat['impliedSharesOutstanding'] * stat['last']\n",
    "stat"
   ]
  },
  {
   "cell_type": "code",
   "execution_count": null,
   "metadata": {},
   "outputs": [],
   "source": [
    "base_currency = 'USD'\n",
    "\n",
    "# Exclude base currency\n",
    "d = {base_currency: 1}\n",
    "for fx in set(stat['currency']) - set([base_currency]):\n",
    "    # History is limited, say 2003\n",
    "    hist = yf.Ticker(f'{base_currency}{fx}=X'.upper()).history(period=\"max\")\n",
    "    rate = hist[hist.index.date <= date.date()].iloc[-1]['Close']\n",
    "    # Special case for pence\n",
    "    if fx == 'GBp':\n",
    "        rate *= 100\n",
    "    d[fx] = rate\n",
    "fx_rate = pd.Series(d)\n",
    "fx_rate"
   ]
  },
  {
   "cell_type": "code",
   "execution_count": null,
   "metadata": {},
   "outputs": [],
   "source": [
    "def history(ticker, end=datetime.datetime.today(), days=30):\n",
    "    hist = yf.Ticker(ticker).history(period='max').loc[:end.strftime('%Y-%m-%d')]\n",
    "    return (hist['Close'].iloc[-1], hist['Volume'].iloc[-days:].mean())\n",
    "\n",
    "# Inclusive of both start/end date; Must provide both\n",
    "history('NVDA', end=datetime.datetime(year=2023, month=12, day=31))[0]          # 495.22\n",
    "history('NVDA', end=datetime.datetime(year=2023, month=12, day=31), days=3)[1]  # 28,964,167"
   ]
  },
  {
   "cell_type": "code",
   "execution_count": null,
   "metadata": {},
   "outputs": [],
   "source": [
    "stat['fxRate'] = stat['currency'].map(fx_rate)\n",
    "stat['marketCapBase'] = stat['marketCapLocal'] / stat['fxRate']\n",
    "stat['price'] = stat.apply(lambda x: history(x.name, end=date)[0], axis=1)\n",
    "stat['adtv'] = stat.apply(lambda x: history(x.name, end=date)[1], axis=1)\n",
    "stat['adtvBase'] = stat['adtv'] * stat['price'] / stat['fxRate']\n",
    "stat"
   ]
  },
  {
   "cell_type": "markdown",
   "metadata": {},
   "source": [
    "## Liquidity"
   ]
  },
  {
   "cell_type": "code",
   "execution_count": null,
   "metadata": {},
   "outputs": [],
   "source": [
    "port = pd.read_csv('sample2.csv', index_col=0) # USD 1b\n",
    "\n",
    "port = pd.read_csv('sample1.csv', index_col=0)\n",
    "port['value'] = port['weight'] * 1000000000\n",
    "\n",
    "port.index.equals(stat.index)\n",
    "analysis = port.merge(stat, left_index=True, right_index=True)\n",
    "\n",
    "def liquidity(analysis, days=252, participation=0.25):\n",
    "    if 'shares' in analysis.columns:\n",
    "        total = (analysis['shares'] * analysis['price'] / analysis['fxRate']).sum()\n",
    "        liquidate = analysis.apply(lambda x: min(x['shares'], x['adtv'] * participation * days) * x['price'] / x['fxRate'], axis=1).sum()        \n",
    "    if 'value' in analysis.columns:\n",
    "        total = analysis['value'].sum()\n",
    "        liquidate = analysis.apply(lambda x: min(x['value'], x['adtvBase'] * participation * days), axis=1).sum()\n",
    "    return liquidate / total\n",
    "\n",
    "days = 10\n",
    "waterfall = [liquidity(analysis, i, 1/3) for i in range(days)]\n",
    "pd.Series(waterfall).plot()"
   ]
  },
  {
   "cell_type": "code",
   "execution_count": null,
   "metadata": {},
   "outputs": [],
   "source": [
    "t = yf.Ticker('^GSPC')\n",
    "px = t.history(period='max')['Close']\n",
    "px.groupby(pd.Grouper(freq='ME')).last().pct_change().dropna()"
   ]
  },
  {
   "cell_type": "markdown",
   "metadata": {},
   "source": [
    "# MSCI\n",
    "\n",
    "MSCI Index Codes and corresponding Bloomberg Tickers\n",
    "\n",
    "https://www.msci.com/our-solutions/indexes/index-resources/index-tools\n",
    "\n",
    "Factor performance in different time horizon, by region\n",
    "\n",
    "https://www.msci.com/factor-index-scorecard/"
   ]
  },
  {
   "cell_type": "code",
   "execution_count": null,
   "metadata": {},
   "outputs": [],
   "source": [
    "def get_last_business_day(d = datetime.datetime.today()):\n",
    "    return (d - datetime.timedelta(days=max(0, d.weekday() - 4))).date()\n",
    "\n",
    "# World Factor Indices\n",
    "codes = [990100, 129896, 136064, 702787, 703755, 705130, 129857, 729749]\n",
    "# Price = 'STRD', Net = 'NETR', Gross = 'GRTR'\n",
    "# Currency\n",
    "# YYYYMMDD, Must be trading date or server error\n",
    "# Freq = 'DAILY', 'END_OF_MONTH', 'ANNUAL', \n",
    "def get_msci(\n",
    "        codes,\n",
    "        end_date = get_last_business_day().strftime('%Y%m%d'),\n",
    "        fx='USD',\n",
    "        variant='STRD',\n",
    "        freq='END_OF_MONTH'):\n",
    "    url = f'https://app2-nv.msci.com/products/service/index/indexmaster/downloadLevelData?output=INDEX_LEVELS&currency_symbol={fx}&index_variant={variant}&start_date=19691231&end_date={end_date}&data_frequency={freq}&baseValue=false&index_codes={\",\".join(map(str, codes))}'\n",
    "    return pd.read_excel(url, thousands=',', skiprows=6, skipfooter=19).set_index('Date')\n",
    "\n",
    "\n",
    "df = get_msci(codes, variant='GRTR').pct_change().dropna()"
   ]
  },
  {
   "cell_type": "markdown",
   "metadata": {},
   "source": [
    "## Factor"
   ]
  },
  {
   "cell_type": "code",
   "execution_count": null,
   "metadata": {},
   "outputs": [],
   "source": [
    "df2 = df.set_axis(['Index', 'MinVol', 'HiDvdYld', 'Quality', 'Momentum', 'Value', 'Size', 'Growth'], axis=1)\n",
    "df3 = df2.copy()\n",
    "df3.iloc[:, 1:] = df2.iloc[:, 1:].sub(df2.iloc[:, 0], axis=0)\n",
    "df3\n",
    "\n",
    "y = df2['MinVol']\n",
    "X = df3\n",
    "\n",
    "import statsmodels.api as sm\n",
    "X = sm.add_constant(X)\n",
    "mod = sm.OLS(y, X)\n",
    "res = mod.fit()\n",
    "res.summary()"
   ]
  }
 ],
 "metadata": {
  "kernelspec": {
   "display_name": "Python 3",
   "language": "python",
   "name": "python3"
  },
  "language_info": {
   "codemirror_mode": {
    "name": "ipython",
    "version": 3
   },
   "file_extension": ".py",
   "mimetype": "text/x-python",
   "name": "python",
   "nbconvert_exporter": "python",
   "pygments_lexer": "ipython3",
   "version": "3.10.13"
  }
 },
 "nbformat": 4,
 "nbformat_minor": 2
}
