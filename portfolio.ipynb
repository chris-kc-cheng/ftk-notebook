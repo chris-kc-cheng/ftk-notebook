{
 "cells": [
  {
   "cell_type": "markdown",
   "metadata": {},
   "source": [
    "# Portfolio Analysis"
   ]
  },
  {
   "cell_type": "code",
   "execution_count": null,
   "metadata": {},
   "outputs": [],
   "source": [
    "!pip install xlrd\n",
    "import datetime\n",
    "import yfinance as yf\n",
    "import pandas as pd\n",
    "\n",
    "ticker_list = ['MSFT', 'SHOP.TO', '7203.T', 'HSBA.L', 'SGML.V']\n",
    "tickers = yf.Tickers(' '.join(ticker_list))\n",
    "\n",
    "field_list = ['shortName', 'currency', 'marketCap', 'impliedSharesOutstanding']\n",
    "\n",
    "stat = pd.DataFrame([{f: tickers.tickers[t].info[f] for f in field_list} for t in ticker_list], index=ticker_list)"
   ]
  },
  {
   "cell_type": "code",
   "execution_count": null,
   "metadata": {},
   "outputs": [],
   "source": [
    "port = pd.read_csv('sample.csv', index_col=0)\n",
    "port"
   ]
  },
  {
   "cell_type": "code",
   "execution_count": null,
   "metadata": {},
   "outputs": [],
   "source": [
    "last = pd.Series({t: tickers.tickers[t].history()['Close'].iloc[-1] for t in ticker_list})\n",
    "stat['last'] = last\n",
    "stat['marketCapLocal'] = stat['impliedSharesOutstanding'] * stat['last']\n",
    "stat\n",
    "\n",
    "# FIXME: Note GBp not GBP"
   ]
  },
  {
   "cell_type": "code",
   "execution_count": null,
   "metadata": {},
   "outputs": [],
   "source": [
    "stat.info()"
   ]
  },
  {
   "cell_type": "code",
   "execution_count": null,
   "metadata": {},
   "outputs": [],
   "source": [
    "date = datetime.datetime(year=2023, month=12, day=31)\n",
    "base_currency = 'CAD'\n",
    "\n",
    "fx_list = set(stat['currency']) - set([base_currency])\n",
    "tickers = list(map(lambda fc: f'{base_currency}{fc}=X', fx_list))\n",
    "fx = yf.Tickers(' '.join(tickers))\n",
    "fx.tickers[tickers[0]].history()"
   ]
  },
  {
   "cell_type": "code",
   "execution_count": null,
   "metadata": {},
   "outputs": [],
   "source": [
    "t = yf.Ticker('^GSPC')\n",
    "px = t.history(period='max')['Close']\n",
    "px.groupby(pd.Grouper(freq='ME')).last().pct_change().dropna()"
   ]
  },
  {
   "cell_type": "code",
   "execution_count": null,
   "metadata": {},
   "outputs": [],
   "source": [
    "def adtv(ticker, end=datetime.datetime.today(), days=30):\n",
    "    return yf.Ticker(ticker).history(period='max')['Volume'].loc[:end.strftime('%Y-%m-%d')].iloc[-days:].mean()\n",
    "\n",
    "adtv('MSFT', days=10)\n",
    "adtv('MSFT', end=datetime.datetime(year=2022, month=12, day=31))            # Expect 26906470.0\n",
    "adtv('MSFT', end=datetime.datetime(year=2022, month=12, day=31), days=10)   # Expect 29035340.0\n",
    "\n",
    "# Inclusive of both start/end date; Must provide both"
   ]
  },
  {
   "cell_type": "markdown",
   "metadata": {},
   "source": [
    "# MSCI\n",
    "\n",
    "MSCI Index Codes and corresponding Bloomberg Tickers, no factor indices\n",
    "\n",
    "https://www.msci.com/www/product-documentation/bloomberg-ticker-list/0163827567\n",
    "\n",
    "Factor performance in different time horizon, by region\n",
    "\n",
    "https://www.msci.com/factor-index-scorecard/"
   ]
  },
  {
   "cell_type": "code",
   "execution_count": null,
   "metadata": {},
   "outputs": [],
   "source": [
    "def get_last_business_day(d = datetime.datetime.today()):\n",
    "    return (d - datetime.timedelta(days=max(0, d.weekday() - 4))).date()\n",
    "\n",
    "# ACWI = 892400\n",
    "codes = ['892400', '892400']\n",
    "# Price = 'STRD', Net = 'NETR', Gross = 'GRTR'\n",
    "# Currency\n",
    "# YYYYMMDD, Must be trading date or server error\n",
    "def get_msci(\n",
    "        codes,\n",
    "        end_date = get_last_business_day().strftime('%Y%m%d'),\n",
    "        fx='USD',\n",
    "        variant='STRD'):\n",
    "    url = f'https://app2-nv.msci.com/products/service/index/indexmaster/downloadLevelData?output=INDEX_LEVELS&currency_symbol={fx}&index_variant={variant}&start_date=19691231&end_date={end_date}&data_frequency=END_OF_MONTH&baseValue=false&index_codes={\",\".join(codes)}'\n",
    "    return pd.read_excel(url, skiprows=6, skipfooter=19).set_index('Date').squeeze().pct_change().dropna()\n",
    "\n",
    "get_msci(codes)"
   ]
  },
  {
   "cell_type": "markdown",
   "metadata": {},
   "source": [
    "## Liquidity"
   ]
  },
  {
   "cell_type": "code",
   "execution_count": null,
   "metadata": {},
   "outputs": [],
   "source": []
  }
 ],
 "metadata": {
  "kernelspec": {
   "display_name": "Python 3",
   "language": "python",
   "name": "python3"
  },
  "language_info": {
   "codemirror_mode": {
    "name": "ipython",
    "version": 3
   },
   "file_extension": ".py",
   "mimetype": "text/x-python",
   "name": "python",
   "nbconvert_exporter": "python",
   "pygments_lexer": "ipython3",
   "version": "3.10.13"
  }
 },
 "nbformat": 4,
 "nbformat_minor": 2
}
