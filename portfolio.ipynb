{
 "cells": [
  {
   "cell_type": "markdown",
   "metadata": {},
   "source": [
    "# Portfolio Analysis"
   ]
  },
  {
   "cell_type": "code",
   "execution_count": null,
   "metadata": {},
   "outputs": [],
   "source": [
    "!pip install xlrd\n",
    "from datetime import datetime\n",
    "import yfinance as yf\n",
    "import pandas as pd\n",
    "\n",
    "ticker_list = ['MSFT', 'SHOP.TO', '7203.T', 'HSBA.L', 'SGML.V']\n",
    "tickers = yf.Tickers(' '.join(ticker_list))\n",
    "\n",
    "field_list = ['shortName', 'currency', 'marketCap', 'impliedSharesOutstanding']\n",
    "\n",
    "stat = pd.DataFrame([{f: tickers.tickers[t].info[f] for f in field_list} for t in ticker_list], index=ticker_list)"
   ]
  },
  {
   "cell_type": "code",
   "execution_count": null,
   "metadata": {},
   "outputs": [],
   "source": [
    "last = pd.Series({t: tickers.tickers[t].history()['Close'].iloc[-1] for t in ticker_list})\n",
    "stat['last'] = last\n",
    "stat['marketCapLocal'] = stat['impliedSharesOutstanding'] * stat['last']\n",
    "stat\n",
    "\n",
    "# FIXME: Note GBp not GBP"
   ]
  },
  {
   "cell_type": "code",
   "execution_count": null,
   "metadata": {},
   "outputs": [],
   "source": [
    "date = datetime(year=2023, month=12, day=31)\n",
    "base_currency = 'CAD'\n",
    "\n",
    "fx_list = set(df['currency']) - set([base_currency])\n",
    "fx = yf.Tickers(' '.join(fx_list))\n",
    "fx.tickers['MSFT'].history(period='max')"
   ]
  },
  {
   "cell_type": "code",
   "execution_count": null,
   "metadata": {},
   "outputs": [],
   "source": [
    "t = yf.Ticker('^GSPC')\n",
    "px = t.history(period='max')['Close']\n",
    "px.groupby(pd.Grouper(freq='ME')).last().pct_change().dropna()"
   ]
  },
  {
   "cell_type": "code",
   "execution_count": null,
   "metadata": {},
   "outputs": [],
   "source": [
    "tickers.tickers['MSFT'].history(period='max')"
   ]
  },
  {
   "cell_type": "markdown",
   "metadata": {},
   "source": [
    "# MSCI"
   ]
  },
  {
   "cell_type": "code",
   "execution_count": null,
   "metadata": {},
   "outputs": [],
   "source": [
    "# ACWI = 892400\n",
    "code = 892400\n",
    "\n",
    "# Price = 'STRD', Net = 'NETR', Gross = 'GRTR'\n",
    "variant = 'STRD'\n",
    "\n",
    "# Currency\n",
    "fx = 'USD'\n",
    "\n",
    "# YYYYMMDD\n",
    "end_date = datetime.today().strftime('%Y%m%d')\n",
    "\n",
    "url = f'https://app2-nv.msci.com/products/service/index/indexmaster/downloadLevelData?output=INDEX_LEVELS&currency_symbol={fx}&index_variant={variant}&start_date=19691231&end_date={end_date}&data_frequency=END_OF_MONTH&baseValue=false&index_codes={code}'\n",
    "\n",
    "px = pd.read_excel(url, skiprows=6, skipfooter=19).set_index('Date').squeeze().pct_change().dropna()"
   ]
  },
  {
   "cell_type": "markdown",
   "metadata": {},
   "source": [
    "## Liquidity"
   ]
  },
  {
   "cell_type": "code",
   "execution_count": null,
   "metadata": {},
   "outputs": [],
   "source": []
  }
 ],
 "metadata": {
  "kernelspec": {
   "display_name": "Python 3",
   "language": "python",
   "name": "python3"
  },
  "language_info": {
   "codemirror_mode": {
    "name": "ipython",
    "version": 3
   },
   "file_extension": ".py",
   "mimetype": "text/x-python",
   "name": "python",
   "nbconvert_exporter": "python",
   "pygments_lexer": "ipython3",
   "version": "3.10.13"
  }
 },
 "nbformat": 4,
 "nbformat_minor": 2
}
