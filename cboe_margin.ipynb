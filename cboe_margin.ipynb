{
 "cells": [
  {
   "cell_type": "markdown",
   "metadata": {},
   "source": [
    "# CBOE Margin Requirement\n",
    "\n",
    " - https://www.cboe.com/education/tools/margin-calculator/\n",
    " - https://cdn.cboe.com/resources/membership/Margin_Manual.pdf"
   ]
  },
  {
   "cell_type": "code",
   "execution_count": null,
   "metadata": {},
   "outputs": [],
   "source": [
    "import numpy as np\n",
    "import pandas as pd\n",
    "import matplotlib.pyplot as plt\n",
    "import toolkit as ftk\n",
    "\n",
    "underlying = np.linspace(30, 50, 101)\n",
    "portfolio = pd.DataFrame([\n",
    "    {'otype': 'c', 'quantity': 1, 'strike': 35, 'expiration': 1, 'multiplier': 100, 'reduced': 1,\n",
    "     'value': 100 * ftk.black_scholes.price_call(35, underlying, 0.05, 0.1, 0.5, 0)},\n",
    "    {'otype': 'p', 'quantity': 1, 'strike': 45, 'expiration': 1, 'multiplier': 100, 'reduced': 1,\n",
    "     'value': 100 * ftk.black_scholes.price_put(45, underlying, 0.05, 0.1, 0.5, 0)},\n",
    "    # FIXME\n",
    "    #{'otype': 'u', 'quantity': 100,\n",
    "    # 'value': underlying}\n",
    "])\n",
    "\n",
    "# plt.plot\n",
    "portfolio.apply(lambda x: print(ftk.cboe_margin.margin(ftk.cboe_margin.margin(**x.to_dict(), underlying=underlying))), axis=1)\n",
    "plt.plot(underlying, ftk.cboe_margin.margin_strategy(\n",
    "    portfolio, underlying), label='Portfolio')\n",
    "plt.xlabel(\"Spot price of the underlying\")\n",
    "plt.ylabel(\"Maintinance margin\")\n",
    "plt.legend()\n",
    "plt.show()"
   ]
  }
 ],
 "metadata": {
  "kernelspec": {
   "display_name": "Python 3",
   "language": "python",
   "name": "python3"
  },
  "language_info": {
   "codemirror_mode": {
    "name": "ipython",
    "version": 3
   },
   "file_extension": ".py",
   "mimetype": "text/x-python",
   "name": "python",
   "nbconvert_exporter": "python",
   "pygments_lexer": "ipython3",
   "version": "3.11.3"
  }
 },
 "nbformat": 4,
 "nbformat_minor": 2
}
